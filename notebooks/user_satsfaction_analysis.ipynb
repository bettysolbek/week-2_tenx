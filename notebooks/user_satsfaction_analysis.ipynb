{
 "cells": [
  {
   "cell_type": "code",
   "execution_count": 1,
   "metadata": {},
   "outputs": [],
   "source": [
    "\n",
    "from dotenv import load_dotenv\n",
    "import pandas as pd\n",
    "import matplotlib.pyplot as plt\n",
    "import seaborn as sns"
   ]
  },
  {
   "cell_type": "code",
   "execution_count": 2,
   "metadata": {},
   "outputs": [],
   "source": [
    "import sys\n",
    "import os\n",
    "sys.path.append(os.path.abspath(os.path.join(os.getcwd(), '../scripts')))"
   ]
  },
  {
   "cell_type": "code",
   "execution_count": 10,
   "metadata": {},
   "outputs": [],
   "source": [
    "from data_loading import load_data_using_sqlalchemy\n",
    "from user_engagement import (\n",
    "    aggregate_user_metrics,\n",
    "    normalize_metrics,\n",
    "    cluster_users\n",
    ")\n",
    "from experience_analytics import (\n",
    "    aggregate_experience_metrics\n",
    ")\n",
    "from satisfaction_analysis import (\n",
    "    calculate_engagement_score,\n",
    "    calculate_experience_score,\n",
    "    calculate_satisfaction_score,\n",
    "    top_satisfied_customers,\n",
    "    train_regression_model,\n",
    "    cluster_satisfaction_scores,\n",
    "    aggregate_cluster_scores,\n",
    "    export_to_mysql\n",
    ")\n"
   ]
  },
  {
   "cell_type": "code",
   "execution_count": 4,
   "metadata": {},
   "outputs": [],
   "source": [
    "# Load environment variables from .env file\n",
    "load_dotenv()\n",
    "\n",
    "# Fetch database connection parameters from environment variables\n",
    "DB_HOST = os.getenv(\"DB_HOST\")\n",
    "DB_PORT = os.getenv(\"DB_PORT\")\n",
    "DB_NAME = os.getenv(\"DB_NAME\")\n",
    "DB_USER = os.getenv(\"DB_USER\")\n",
    "DB_PASSWORD = os.getenv(\"DB_PASSWORD\")"
   ]
  },
  {
   "cell_type": "code",
   "execution_count": 5,
   "metadata": {},
   "outputs": [
    {
     "name": "stdout",
     "output_type": "stream",
     "text": [
      "Successfully loaded the data\n"
     ]
    }
   ],
   "source": [
    "# Define your SQL query\n",
    "query = \"SELECT * FROM xdr_data;\"  # Replace with your actual table name\n",
    "\n",
    "# Load data from PostgreSQL\n",
    "df =  load_data_using_sqlalchemy(query)\n",
    "\n",
    "# Display the first few rows of the dataframe\n",
    "if df is not None:\n",
    "    print(\"Successfully loaded the data\")\n",
    "else:\n",
    "    print(\"Failed to load data.\")\n"
   ]
  },
  {
   "cell_type": "code",
   "execution_count": 6,
   "metadata": {},
   "outputs": [],
   "source": [
    "# Step 2: Engagement and experience data\n",
    "engagement_columns = ['Session Duration (s)', 'Total Traffic (Bytes)']\n",
    "experience_columns = ['Avg TCP Retrans (Bytes)', 'Avg RTT (ms)', 'Avg Throughput (kbps)']\n"
   ]
  },
  {
   "cell_type": "code",
   "execution_count": 12,
   "metadata": {},
   "outputs": [
    {
     "name": "stdout",
     "output_type": "stream",
     "text": [
      "   MSISDN/Number  Avg TCP Retrans (Bytes)  Avg RTT (ms)  \\\n",
      "0   3.360100e+10             1.685339e+07     46.000000   \n",
      "1   3.360100e+10             1.685339e+07     30.000000   \n",
      "2   3.360100e+10             1.685339e+07    119.182869   \n",
      "3   3.360101e+10             1.066000e+03     69.000000   \n",
      "4   3.360101e+10             9.349630e+06     57.000000   \n",
      "\n",
      "   Avg Throughput (kbps)                    Handset Type  \n",
      "0                   37.0  Huawei P20 Lite Huawei Nova 3E  \n",
      "1                   48.0          Apple iPhone 7 (A1778)  \n",
      "2                   48.0                       undefined  \n",
      "3                  204.0         Apple iPhone 5S (A1457)  \n",
      "4                20197.5         Apple iPhone Se (A1723)  \n"
     ]
    }
   ],
   "source": [
    "# Use Task 2 and Task 3 outputs\n",
    "user_engagement = aggregate_user_metrics(df)\n",
    "user_engagement_normalized = normalize_metrics(user_engagement, engagement_columns)\n",
    "user_engagement_clustered = cluster_users(user_engagement_normalized, engagement_columns, n_clusters=3)\n",
    "\n",
    "# Step 2: Aggregate experience metrics\n",
    "experience_metrics = aggregate_experience_metrics(df)\n",
    "print(experience_metrics.head())\n",
    "experience_clustered, _ = perform_experience_clustering(experience_metrics, experience_columns)\n"
   ]
  },
  {
   "cell_type": "code",
   "execution_count": 13,
   "metadata": {},
   "outputs": [],
   "source": [
    "# Merge engagement and experience data\n",
    "df_combined = pd.merge(user_engagement_clustered, experience_clustered, on='MSISDN/Number')"
   ]
  },
  {
   "cell_type": "code",
   "execution_count": 14,
   "metadata": {},
   "outputs": [],
   "source": [
    "# Step 3: Calculate engagement and experience scores\n",
    "df_combined = calculate_engagement_score(df_combined, engagement_columns, reference_cluster=2)  # Assuming cluster 2 is less engaged\n",
    "df_combined = calculate_experience_score(df_combined, experience_columns, reference_cluster=1)  # Assuming cluster 1 is worst experience"
   ]
  },
  {
   "cell_type": "code",
   "execution_count": 15,
   "metadata": {},
   "outputs": [],
   "source": [
    "# Step 4: Satisfaction score\n",
    "df_combined = calculate_satisfaction_score(df_combined)"
   ]
  },
  {
   "cell_type": "code",
   "execution_count": 16,
   "metadata": {},
   "outputs": [
    {
     "name": "stdout",
     "output_type": "stream",
     "text": [
      "\n",
      "Top 10 Satisfied Customers:\n",
      "        MSISDN/Number  Satisfaction Score\n",
      "85785   3.369858e+10        2.138491e+09\n",
      "32273   3.365871e+10        2.137778e+09\n",
      "58026   3.366491e+10        2.127964e+09\n",
      "31942   3.365863e+10        2.121070e+09\n",
      "62049   3.366613e+10        2.099342e+09\n",
      "70079   3.366877e+10        2.077043e+09\n",
      "43629   3.366131e+10        2.059270e+09\n",
      "48341   3.366240e+10        2.052624e+09\n",
      "64113   3.366682e+10        1.977784e+09\n",
      "98211   3.376264e+10        1.886395e+09\n"
     ]
    }
   ],
   "source": [
    "# Step 5: Top 10 satisfied customers\n",
    "top_customers = top_satisfied_customers(df_combined, n=10)\n",
    "print(\"\\nTop 10 Satisfied Customers:\\n\", top_customers)"
   ]
  },
  {
   "cell_type": "code",
   "execution_count": 17,
   "metadata": {},
   "outputs": [],
   "source": [
    "# Step 6: Train regression model\n",
    "features = ['Engagement Score', 'Experience Score']\n",
    "target = 'Satisfaction Score'\n",
    "model = train_regression_model(df_combined, features, target)\n"
   ]
  },
  {
   "cell_type": "code",
   "execution_count": 18,
   "metadata": {},
   "outputs": [],
   "source": [
    "# Step 7: Cluster satisfaction scores\n",
    "df_combined = cluster_satisfaction_scores(df_combined, ['Engagement Score', 'Experience Score'], n_clusters=2)\n"
   ]
  },
  {
   "cell_type": "code",
   "execution_count": 19,
   "metadata": {},
   "outputs": [
    {
     "name": "stdout",
     "output_type": "stream",
     "text": [
      "\n",
      "Cluster Satisfaction Scores:\n",
      "    Satisfaction Cluster  Satisfaction Score  Experience Score\n",
      "0                     0        4.981266e+06      9.962533e+06\n",
      "1                     1        1.105499e+09      2.210999e+09\n"
     ]
    }
   ],
   "source": [
    "# Step 8: Aggregate scores per cluster\n",
    "cluster_scores = aggregate_cluster_scores(df_combined)\n",
    "print(\"\\nCluster Satisfaction Scores:\\n\", cluster_scores)"
   ]
  },
  {
   "cell_type": "code",
   "execution_count": 21,
   "metadata": {},
   "outputs": [],
   "source": [
    "# Step 9: Export to MySQL\n",
    "connection_string = f\"postgresql+psycopg2://{DB_USER}:{DB_PASSWORD}@{DB_HOST}:{DB_PORT}/{DB_NAME}\"\n",
    "export_to_mysql(df_combined, 'satisfaction_scores', connection_string)"
   ]
  }
 ],
 "metadata": {
  "kernelspec": {
   "display_name": "Python 3",
   "language": "python",
   "name": "python3"
  },
  "language_info": {
   "codemirror_mode": {
    "name": "ipython",
    "version": 3
   },
   "file_extension": ".py",
   "mimetype": "text/x-python",
   "name": "python",
   "nbconvert_exporter": "python",
   "pygments_lexer": "ipython3",
   "version": "3.12.8"
  }
 },
 "nbformat": 4,
 "nbformat_minor": 2
}
